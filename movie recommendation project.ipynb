{
 "cells": [
  {
   "cell_type": "markdown",
   "id": "6874351f",
   "metadata": {},
   "source": [
    "# First project"
   ]
  },
  {
   "cell_type": "code",
   "execution_count": 1,
   "id": "0befbbea",
   "metadata": {},
   "outputs": [],
   "source": [
    "import pandas as pd\n",
    "import warnings\n",
    "import tkinter as tk\n",
    "\n",
    "warnings.filterwarnings('ignore')"
   ]
  },
  {
   "cell_type": "code",
   "execution_count": 2,
   "id": "7931a7f2",
   "metadata": {},
   "outputs": [],
   "source": [
    "cols=('used id','item_id','rating','timestamp')\n",
    "df=pd.read_csv('u.data.zip',sep='\\t',names=cols)\n",
    "cols_movies=['item_id','title']+[str(i) for i in range(22)]\n",
    "movie_titles=pd.read_csv('u.item',sep='|',names=cols_movies)\n",
    "movie_titles=movie_titles[['item_id','title']]\n",
    "data=pd.merge(df,movie_titles, on=\"item_id\")\n",
    "rating=pd.DataFrame(data.groupby('title')['rating'].mean())\n",
    "rating['count']=data['title'].value_counts()\n",
    "pivot_df=data.pivot_table(index='used id',columns='title',values='rating')\n",
    "\n",
    "\n",
    "\n",
    "app= tk.Tk()\n",
    "app.title(\"Recommendation System\")\n",
    "app.geometry(\"400x300\")\n",
    "app.iconbitmap('depositphotos_90102796_stock_illustration_cinema_film_clapper_board_vector___copy_rti_icon.ico')\n",
    "app.configure(bg='light blue')\n",
    "\n",
    "\n",
    "tk.Label(app,text=\"which movie you watched:\",bg='light blue',font=('Sitka Heading', 10, 'bold')).place(x=10,y=30)\n",
    "tk.Label(app,text=\"Recommended for you:\",bg='light blue',font=('Sitka Heading', 10, 'bold')).place(x=10,y=140)\n",
    "tk.Label(app,text=\"Also try:\",bg='light blue',font=('Sitka Heading', 10, 'bold')).place(x=10,y=160)\n",
    "\n",
    "movie_var=tk.Variable()\n",
    "tk.Entry(app,textvariable=movie_var,width=30).place(x=180,y=30)\n",
    "\n",
    "Recommend_var=tk.Variable(app)\n",
    "Recommend_var.set(\"type movie name...\")\n",
    "tk.Label(app,textvariable=Recommend_var,bg='light blue',font=('Sitka Heading', 10)).place(x=150,y=140)\n",
    "\n",
    "also_try_var=tk.Variable(app)\n",
    "also_try_var.set(\"type movie name...\")\n",
    "tk.Label(app,textvariable=also_try_var,bg='light blue',font=('Sitka Heading', 10)).place(x=90,y=160)\n",
    "\n",
    "def find_recommendation():\n",
    "    movie= movie_var.get().lower().strip()\n",
    "    try:\n",
    "        movie=movie_titles['title'][movie_titles['title'].apply(lambda x: movie in x.lower())].values[0]\n",
    "        movie_var.set(movie)\n",
    "    except IndexError:\n",
    "        Recommend_var.set('movie not found')\n",
    "        also_try_var.set('movie not found')\n",
    "    else:\n",
    "        corr_df=pd.DataFrame(pivot_df.corrwith(pivot_df[movie]),columns=['correlation'])\n",
    "        corr_df.dropna(inplace=True)\n",
    "        corr_df=corr_df.join(rating['count'])\n",
    "        Recommend_var.set(corr_df[(corr_df['count']>200)&(corr_df['correlation']>0.4)].sort_values(by='correlation',ascending=False).index[1])\n",
    "        also_try_var.set(corr_df[corr_df['correlation']>0.4].sort_values(by='correlation',ascending=False).index[0])\n",
    "\n",
    "tk.Button(app,text='Find suggestion',command=find_recommendation,bg=\"black\",fg='#ffffff').place(x=125,y=75)\n",
    "app.mainloop()"
   ]
  },
  {
   "cell_type": "code",
   "execution_count": null,
   "id": "0a6d7d99",
   "metadata": {},
   "outputs": [],
   "source": []
  }
 ],
 "metadata": {
  "kernelspec": {
   "display_name": "Python 3",
   "language": "python",
   "name": "python3"
  },
  "language_info": {
   "codemirror_mode": {
    "name": "ipython",
    "version": 3
   },
   "file_extension": ".py",
   "mimetype": "text/x-python",
   "name": "python",
   "nbconvert_exporter": "python",
   "pygments_lexer": "ipython3",
   "version": "3.8.8"
  }
 },
 "nbformat": 4,
 "nbformat_minor": 5
}
