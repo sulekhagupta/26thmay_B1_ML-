{
 "cells": [
  {
   "cell_type": "code",
   "execution_count": 6,
   "id": "3e5942d4",
   "metadata": {},
   "outputs": [],
   "source": [
    "import pandas as pd\n",
    "import numpy as np\n",
    "import string\n",
    "import matplotlib.pyplot as plt\n",
    "import re\n",
    "import nltk"
   ]
  },
  {
   "cell_type": "code",
   "execution_count": 7,
   "id": "c07621e8",
   "metadata": {},
   "outputs": [
    {
     "data": {
      "text/html": [
       "<div>\n",
       "<style scoped>\n",
       "    .dataframe tbody tr th:only-of-type {\n",
       "        vertical-align: middle;\n",
       "    }\n",
       "\n",
       "    .dataframe tbody tr th {\n",
       "        vertical-align: top;\n",
       "    }\n",
       "\n",
       "    .dataframe thead th {\n",
       "        text-align: right;\n",
       "    }\n",
       "</style>\n",
       "<table border=\"1\" class=\"dataframe\">\n",
       "  <thead>\n",
       "    <tr style=\"text-align: right;\">\n",
       "      <th></th>\n",
       "      <th>v1</th>\n",
       "      <th>v2</th>\n",
       "      <th>Unnamed: 2</th>\n",
       "      <th>Unnamed: 3</th>\n",
       "      <th>Unnamed: 4</th>\n",
       "    </tr>\n",
       "  </thead>\n",
       "  <tbody>\n",
       "    <tr>\n",
       "      <th>0</th>\n",
       "      <td>ham</td>\n",
       "      <td>Go until jurong point, crazy.. Available only ...</td>\n",
       "      <td>NaN</td>\n",
       "      <td>NaN</td>\n",
       "      <td>NaN</td>\n",
       "    </tr>\n",
       "    <tr>\n",
       "      <th>1</th>\n",
       "      <td>ham</td>\n",
       "      <td>Ok lar... Joking wif u oni...</td>\n",
       "      <td>NaN</td>\n",
       "      <td>NaN</td>\n",
       "      <td>NaN</td>\n",
       "    </tr>\n",
       "    <tr>\n",
       "      <th>2</th>\n",
       "      <td>spam</td>\n",
       "      <td>Free entry in 2 a wkly comp to win FA Cup fina...</td>\n",
       "      <td>NaN</td>\n",
       "      <td>NaN</td>\n",
       "      <td>NaN</td>\n",
       "    </tr>\n",
       "    <tr>\n",
       "      <th>3</th>\n",
       "      <td>ham</td>\n",
       "      <td>U dun say so early hor... U c already then say...</td>\n",
       "      <td>NaN</td>\n",
       "      <td>NaN</td>\n",
       "      <td>NaN</td>\n",
       "    </tr>\n",
       "    <tr>\n",
       "      <th>4</th>\n",
       "      <td>ham</td>\n",
       "      <td>Nah I don't think he goes to usf, he lives aro...</td>\n",
       "      <td>NaN</td>\n",
       "      <td>NaN</td>\n",
       "      <td>NaN</td>\n",
       "    </tr>\n",
       "  </tbody>\n",
       "</table>\n",
       "</div>"
      ],
      "text/plain": [
       "     v1                                                 v2 Unnamed: 2  \\\n",
       "0   ham  Go until jurong point, crazy.. Available only ...        NaN   \n",
       "1   ham                      Ok lar... Joking wif u oni...        NaN   \n",
       "2  spam  Free entry in 2 a wkly comp to win FA Cup fina...        NaN   \n",
       "3   ham  U dun say so early hor... U c already then say...        NaN   \n",
       "4   ham  Nah I don't think he goes to usf, he lives aro...        NaN   \n",
       "\n",
       "  Unnamed: 3 Unnamed: 4  \n",
       "0        NaN        NaN  \n",
       "1        NaN        NaN  \n",
       "2        NaN        NaN  \n",
       "3        NaN        NaN  \n",
       "4        NaN        NaN  "
      ]
     },
     "execution_count": 7,
     "metadata": {},
     "output_type": "execute_result"
    }
   ],
   "source": [
    "spam=pd.read_csv('spam.csv')\n",
    "spam.head()"
   ]
  },
  {
   "cell_type": "code",
   "execution_count": 8,
   "id": "314fd24c",
   "metadata": {},
   "outputs": [
    {
     "name": "stdout",
     "output_type": "stream",
     "text": [
      "<class 'pandas.core.frame.DataFrame'>\n",
      "RangeIndex: 5572 entries, 0 to 5571\n",
      "Data columns (total 5 columns):\n",
      " #   Column      Non-Null Count  Dtype \n",
      "---  ------      --------------  ----- \n",
      " 0   v1          5572 non-null   object\n",
      " 1   v2          5572 non-null   object\n",
      " 2   Unnamed: 2  50 non-null     object\n",
      " 3   Unnamed: 3  12 non-null     object\n",
      " 4   Unnamed: 4  6 non-null      object\n",
      "dtypes: object(5)\n",
      "memory usage: 217.8+ KB\n"
     ]
    }
   ],
   "source": [
    "spam.info()"
   ]
  },
  {
   "cell_type": "markdown",
   "id": "c6e1df8d",
   "metadata": {},
   "source": [
    "##### Remove useless columns which have more than 90percent values are null"
   ]
  },
  {
   "cell_type": "code",
   "execution_count": 9,
   "id": "9f9e46c8",
   "metadata": {},
   "outputs": [
    {
     "data": {
      "text/html": [
       "<div>\n",
       "<style scoped>\n",
       "    .dataframe tbody tr th:only-of-type {\n",
       "        vertical-align: middle;\n",
       "    }\n",
       "\n",
       "    .dataframe tbody tr th {\n",
       "        vertical-align: top;\n",
       "    }\n",
       "\n",
       "    .dataframe thead th {\n",
       "        text-align: right;\n",
       "    }\n",
       "</style>\n",
       "<table border=\"1\" class=\"dataframe\">\n",
       "  <thead>\n",
       "    <tr style=\"text-align: right;\">\n",
       "      <th></th>\n",
       "      <th>v1</th>\n",
       "      <th>v2</th>\n",
       "    </tr>\n",
       "  </thead>\n",
       "  <tbody>\n",
       "    <tr>\n",
       "      <th>0</th>\n",
       "      <td>ham</td>\n",
       "      <td>Go until jurong point, crazy.. Available only ...</td>\n",
       "    </tr>\n",
       "    <tr>\n",
       "      <th>1</th>\n",
       "      <td>ham</td>\n",
       "      <td>Ok lar... Joking wif u oni...</td>\n",
       "    </tr>\n",
       "    <tr>\n",
       "      <th>2</th>\n",
       "      <td>spam</td>\n",
       "      <td>Free entry in 2 a wkly comp to win FA Cup fina...</td>\n",
       "    </tr>\n",
       "    <tr>\n",
       "      <th>3</th>\n",
       "      <td>ham</td>\n",
       "      <td>U dun say so early hor... U c already then say...</td>\n",
       "    </tr>\n",
       "    <tr>\n",
       "      <th>4</th>\n",
       "      <td>ham</td>\n",
       "      <td>Nah I don't think he goes to usf, he lives aro...</td>\n",
       "    </tr>\n",
       "  </tbody>\n",
       "</table>\n",
       "</div>"
      ],
      "text/plain": [
       "     v1                                                 v2\n",
       "0   ham  Go until jurong point, crazy.. Available only ...\n",
       "1   ham                      Ok lar... Joking wif u oni...\n",
       "2  spam  Free entry in 2 a wkly comp to win FA Cup fina...\n",
       "3   ham  U dun say so early hor... U c already then say...\n",
       "4   ham  Nah I don't think he goes to usf, he lives aro..."
      ]
     },
     "execution_count": 9,
     "metadata": {},
     "output_type": "execute_result"
    }
   ],
   "source": [
    "spam = spam.drop(['Unnamed: 2','Unnamed: 3','Unnamed: 4'],axis=1)\n",
    "spam.head()"
   ]
  },
  {
   "cell_type": "markdown",
   "id": "194d64c6",
   "metadata": {},
   "source": [
    "#### EDA Steps"
   ]
  },
  {
   "cell_type": "markdown",
   "id": "e8b6785a",
   "metadata": {},
   "source": [
    "### 1. Lowering SMS text"
   ]
  },
  {
   "cell_type": "code",
   "execution_count": 10,
   "id": "5575278f",
   "metadata": {},
   "outputs": [],
   "source": [
    " spam['v2'] = spam['v2'].str.lower()"
   ]
  },
  {
   "cell_type": "markdown",
   "id": "c9da219e",
   "metadata": {},
   "source": [
    "### 2. Remove Punctuation"
   ]
  },
  {
   "cell_type": "code",
   "execution_count": 11,
   "id": "a8b7b11b",
   "metadata": {},
   "outputs": [],
   "source": [
    "def removePunctuation(text):\n",
    "    return \"\".join([txt for txt in text if txt not in string.punctuation])"
   ]
  },
  {
   "cell_type": "code",
   "execution_count": 12,
   "id": "03478fc8",
   "metadata": {},
   "outputs": [],
   "source": [
    "spam['Body_punct_clean'] = spam['v2'].apply(lambda x : removePunctuation(x))"
   ]
  },
  {
   "cell_type": "code",
   "execution_count": 13,
   "id": "4480970b",
   "metadata": {},
   "outputs": [
    {
     "data": {
      "text/plain": [
       "5562    ok lor sony ericsson salesman i ask shuhui the...\n",
       "5563                                   ard 6 like dat lor\n",
       "5564    why dont you wait til at least wednesday to se...\n",
       "5565                                            huh y lei\n",
       "5566    reminder from o2 to get 250 pounds free call c...\n",
       "5567    this is the 2nd time we have tried 2 contact u...\n",
       "5568                  will � b going to esplanade fr home\n",
       "5569    pity  was in mood for that soany other suggest...\n",
       "5570    the guy did some bitching but i acted like id ...\n",
       "5571                            rofl its true to its name\n",
       "Name: Body_punct_clean, dtype: object"
      ]
     },
     "execution_count": 13,
     "metadata": {},
     "output_type": "execute_result"
    }
   ],
   "source": [
    "spam['Body_punct_clean'].tail(10)"
   ]
  },
  {
   "cell_type": "markdown",
   "id": "f4f09191",
   "metadata": {},
   "source": [
    "### 3. Tokennization"
   ]
  },
  {
   "cell_type": "code",
   "execution_count": 14,
   "id": "581dcdd1",
   "metadata": {},
   "outputs": [],
   "source": [
    "def Tokenization(text):\n",
    "       return re.split('\\W+',text)"
   ]
  },
  {
   "cell_type": "code",
   "execution_count": 15,
   "id": "34d9bc05",
   "metadata": {},
   "outputs": [],
   "source": [
    "spam['v1_Tokenized'] = spam['Body_punct_clean'].apply(lambda x : Tokenization(x))"
   ]
  },
  {
   "cell_type": "code",
   "execution_count": 16,
   "id": "2086bfd7",
   "metadata": {},
   "outputs": [
    {
     "data": {
      "text/plain": [
       "0    [go, until, jurong, point, crazy, available, o...\n",
       "1                       [ok, lar, joking, wif, u, oni]\n",
       "2    [free, entry, in, 2, a, wkly, comp, to, win, f...\n",
       "3    [u, dun, say, so, early, hor, u, c, already, t...\n",
       "4    [nah, i, dont, think, he, goes, to, usf, he, l...\n",
       "Name: v1_Tokenized, dtype: object"
      ]
     },
     "execution_count": 16,
     "metadata": {},
     "output_type": "execute_result"
    }
   ],
   "source": [
    "spam['v1_Tokenized'].head(5)"
   ]
  },
  {
   "cell_type": "markdown",
   "id": "85a81490",
   "metadata": {},
   "source": [
    "### 4. Remove Stop worrds"
   ]
  },
  {
   "cell_type": "code",
   "execution_count": 17,
   "id": "9430544e",
   "metadata": {},
   "outputs": [],
   "source": [
    "def RemoveStopWords(text):\n",
    "     return [txt for txt in text if txt not in stopword]"
   ]
  },
  {
   "cell_type": "code",
   "execution_count": 19,
   "id": "ba70a1ad",
   "metadata": {},
   "outputs": [],
   "source": [
    "stopword = nltk.corpus.stopwords.words('english')"
   ]
  },
  {
   "cell_type": "code",
   "execution_count": 20,
   "id": "58f34b10",
   "metadata": {},
   "outputs": [],
   "source": [
    "spam['removed_stopword']= spam['v1_Tokenized'].apply(lambda x : RemoveStopWords(x))"
   ]
  },
  {
   "cell_type": "code",
   "execution_count": 21,
   "id": "136b1360",
   "metadata": {},
   "outputs": [
    {
     "data": {
      "text/plain": [
       "0    [go, jurong, point, crazy, available, bugis, n...\n",
       "1                       [ok, lar, joking, wif, u, oni]\n",
       "2    [free, entry, 2, wkly, comp, win, fa, cup, fin...\n",
       "3        [u, dun, say, early, hor, u, c, already, say]\n",
       "4    [nah, dont, think, goes, usf, lives, around, t...\n",
       "5    [freemsg, hey, darling, 3, weeks, word, back, ...\n",
       "6    [even, brother, like, speak, treat, like, aids...\n",
       "7    [per, request, melle, melle, oru, minnaminungi...\n",
       "8    [winner, valued, network, customer, selected, ...\n",
       "9    [mobile, 11, months, u, r, entitled, update, l...\n",
       "Name: removed_stopword, dtype: object"
      ]
     },
     "execution_count": 21,
     "metadata": {},
     "output_type": "execute_result"
    }
   ],
   "source": [
    "spam['removed_stopword'].head(10)"
   ]
  },
  {
   "cell_type": "markdown",
   "id": "99cdf90c",
   "metadata": {},
   "source": [
    "### 5. Lemitization"
   ]
  },
  {
   "cell_type": "code",
   "execution_count": 23,
   "id": "e91c7baa",
   "metadata": {},
   "outputs": [],
   "source": [
    "from nltk.stem import WordNetLemmatizer"
   ]
  },
  {
   "cell_type": "code",
   "execution_count": 24,
   "id": "7f6ef873",
   "metadata": {},
   "outputs": [],
   "source": [
    "wml = WordNetLemmatizer()\n",
    "\n",
    "def lemmatise(lowercase_word):\n",
    "    lemma = []\n",
    "    for word in lowercase_word:\n",
    "        tokens = wml.lemmatize(word)\n",
    "        lemma.append(tokens)\n",
    "    return lemma"
   ]
  },
  {
   "cell_type": "code",
   "execution_count": 25,
   "id": "68f64f88",
   "metadata": {},
   "outputs": [],
   "source": [
    "spam['lemitized_sms'] = spam['removed_stopword'].apply(lambda x : lemmatise(x))"
   ]
  },
  {
   "cell_type": "code",
   "execution_count": 26,
   "id": "5b9e9087",
   "metadata": {},
   "outputs": [
    {
     "data": {
      "text/plain": [
       "0    [go, jurong, point, crazy, available, bugis, n...\n",
       "1                       [ok, lar, joking, wif, u, oni]\n",
       "2    [free, entry, 2, wkly, comp, win, fa, cup, fin...\n",
       "3        [u, dun, say, early, hor, u, c, already, say]\n",
       "4    [nah, dont, think, go, usf, life, around, though]\n",
       "5    [freemsg, hey, darling, 3, week, word, back, i...\n",
       "6    [even, brother, like, speak, treat, like, aid,...\n",
       "7    [per, request, melle, melle, oru, minnaminungi...\n",
       "8    [winner, valued, network, customer, selected, ...\n",
       "9    [mobile, 11, month, u, r, entitled, update, la...\n",
       "Name: lemitized_sms, dtype: object"
      ]
     },
     "execution_count": 26,
     "metadata": {},
     "output_type": "execute_result"
    }
   ],
   "source": [
    "spam['lemitized_sms'].head(10)"
   ]
  },
  {
   "cell_type": "code",
   "execution_count": 27,
   "id": "f98768d9",
   "metadata": {},
   "outputs": [],
   "source": [
    "def apply_styling(df: pd.DataFrame, caption: str = \"\"):\n",
    "    \n",
    "    st = df.style.format({'percent on rent': '{:.0%}'}).hide_index()    \n",
    "    st.set_table_styles([\n",
    "           dict(selector=\"th\", props=[('color', 'darkblue'), \n",
    "                                      ('vertical-align', 'top')]),\n",
    "           dict(selector=\"th:first-child\", props=[('max-width', '70px'), ('text-align', 'left')]),\n",
    "           dict(selector=\"th:last-child\", props=[('max-width', '50px')]),\n",
    "           dict(selector=\"td:first-child\", props=[('text-align', 'left')])\n",
    "            ]) \n",
    "    st.caption = caption\n",
    "    return st"
   ]
  },
  {
   "cell_type": "code",
   "execution_count": 28,
   "id": "20ff53c6",
   "metadata": {},
   "outputs": [
    {
     "data": {
      "text/html": [
       "<style  type=\"text/css\" >\n",
       "    #T_9649f_ th {\n",
       "          color: darkblue;\n",
       "          vertical-align: top;\n",
       "    }    #T_9649f_ th:first-child {\n",
       "          max-width: 70px;\n",
       "          text-align: left;\n",
       "    }    #T_9649f_ th:last-child {\n",
       "          max-width: 50px;\n",
       "    }    #T_9649f_ td:first-child {\n",
       "          text-align: left;\n",
       "    }</style><table id=\"T_9649f_\" ><caption>spam-sms</caption><thead>    <tr>        <th class=\"col_heading level0 col0\" >v1</th>        <th class=\"col_heading level0 col1\" >v2</th>        <th class=\"col_heading level0 col2\" >Body_punct_clean</th>        <th class=\"col_heading level0 col3\" >v1_Tokenized</th>        <th class=\"col_heading level0 col4\" >removed_stopword</th>        <th class=\"col_heading level0 col5\" >lemitized_sms</th>    </tr></thead><tbody>\n",
       "                <tr>\n",
       "                                <td id=\"T_9649f_row0_col0\" class=\"data row0 col0\" >ham</td>\n",
       "                        <td id=\"T_9649f_row0_col1\" class=\"data row0 col1\" >go until jurong point, crazy.. available only in bugis n great world la e buffet... cine there got amore wat...</td>\n",
       "                        <td id=\"T_9649f_row0_col2\" class=\"data row0 col2\" >go until jurong point crazy available only in bugis n great world la e buffet cine there got amore wat</td>\n",
       "                        <td id=\"T_9649f_row0_col3\" class=\"data row0 col3\" >['go', 'until', 'jurong', 'point', 'crazy', 'available', 'only', 'in', 'bugis', 'n', 'great', 'world', 'la', 'e', 'buffet', 'cine', 'there', 'got', 'amore', 'wat']</td>\n",
       "                        <td id=\"T_9649f_row0_col4\" class=\"data row0 col4\" >['go', 'jurong', 'point', 'crazy', 'available', 'bugis', 'n', 'great', 'world', 'la', 'e', 'buffet', 'cine', 'got', 'amore', 'wat']</td>\n",
       "                        <td id=\"T_9649f_row0_col5\" class=\"data row0 col5\" >['go', 'jurong', 'point', 'crazy', 'available', 'bugis', 'n', 'great', 'world', 'la', 'e', 'buffet', 'cine', 'got', 'amore', 'wat']</td>\n",
       "            </tr>\n",
       "            <tr>\n",
       "                                <td id=\"T_9649f_row1_col0\" class=\"data row1 col0\" >ham</td>\n",
       "                        <td id=\"T_9649f_row1_col1\" class=\"data row1 col1\" >ok lar... joking wif u oni...</td>\n",
       "                        <td id=\"T_9649f_row1_col2\" class=\"data row1 col2\" >ok lar joking wif u oni</td>\n",
       "                        <td id=\"T_9649f_row1_col3\" class=\"data row1 col3\" >['ok', 'lar', 'joking', 'wif', 'u', 'oni']</td>\n",
       "                        <td id=\"T_9649f_row1_col4\" class=\"data row1 col4\" >['ok', 'lar', 'joking', 'wif', 'u', 'oni']</td>\n",
       "                        <td id=\"T_9649f_row1_col5\" class=\"data row1 col5\" >['ok', 'lar', 'joking', 'wif', 'u', 'oni']</td>\n",
       "            </tr>\n",
       "            <tr>\n",
       "                                <td id=\"T_9649f_row2_col0\" class=\"data row2 col0\" >spam</td>\n",
       "                        <td id=\"T_9649f_row2_col1\" class=\"data row2 col1\" >free entry in 2 a wkly comp to win fa cup final tkts 21st may 2005. text fa to 87121 to receive entry question(std txt rate)t&c's apply 08452810075over18's</td>\n",
       "                        <td id=\"T_9649f_row2_col2\" class=\"data row2 col2\" >free entry in 2 a wkly comp to win fa cup final tkts 21st may 2005 text fa to 87121 to receive entry questionstd txt ratetcs apply 08452810075over18s</td>\n",
       "                        <td id=\"T_9649f_row2_col3\" class=\"data row2 col3\" >['free', 'entry', 'in', '2', 'a', 'wkly', 'comp', 'to', 'win', 'fa', 'cup', 'final', 'tkts', '21st', 'may', '2005', 'text', 'fa', 'to', '87121', 'to', 'receive', 'entry', 'questionstd', 'txt', 'ratetcs', 'apply', '08452810075over18s']</td>\n",
       "                        <td id=\"T_9649f_row2_col4\" class=\"data row2 col4\" >['free', 'entry', '2', 'wkly', 'comp', 'win', 'fa', 'cup', 'final', 'tkts', '21st', 'may', '2005', 'text', 'fa', '87121', 'receive', 'entry', 'questionstd', 'txt', 'ratetcs', 'apply', '08452810075over18s']</td>\n",
       "                        <td id=\"T_9649f_row2_col5\" class=\"data row2 col5\" >['free', 'entry', '2', 'wkly', 'comp', 'win', 'fa', 'cup', 'final', 'tkts', '21st', 'may', '2005', 'text', 'fa', '87121', 'receive', 'entry', 'questionstd', 'txt', 'ratetcs', 'apply', '08452810075over18s']</td>\n",
       "            </tr>\n",
       "            <tr>\n",
       "                                <td id=\"T_9649f_row3_col0\" class=\"data row3 col0\" >ham</td>\n",
       "                        <td id=\"T_9649f_row3_col1\" class=\"data row3 col1\" >u dun say so early hor... u c already then say...</td>\n",
       "                        <td id=\"T_9649f_row3_col2\" class=\"data row3 col2\" >u dun say so early hor u c already then say</td>\n",
       "                        <td id=\"T_9649f_row3_col3\" class=\"data row3 col3\" >['u', 'dun', 'say', 'so', 'early', 'hor', 'u', 'c', 'already', 'then', 'say']</td>\n",
       "                        <td id=\"T_9649f_row3_col4\" class=\"data row3 col4\" >['u', 'dun', 'say', 'early', 'hor', 'u', 'c', 'already', 'say']</td>\n",
       "                        <td id=\"T_9649f_row3_col5\" class=\"data row3 col5\" >['u', 'dun', 'say', 'early', 'hor', 'u', 'c', 'already', 'say']</td>\n",
       "            </tr>\n",
       "            <tr>\n",
       "                                <td id=\"T_9649f_row4_col0\" class=\"data row4 col0\" >ham</td>\n",
       "                        <td id=\"T_9649f_row4_col1\" class=\"data row4 col1\" >nah i don't think he goes to usf, he lives around here though</td>\n",
       "                        <td id=\"T_9649f_row4_col2\" class=\"data row4 col2\" >nah i dont think he goes to usf he lives around here though</td>\n",
       "                        <td id=\"T_9649f_row4_col3\" class=\"data row4 col3\" >['nah', 'i', 'dont', 'think', 'he', 'goes', 'to', 'usf', 'he', 'lives', 'around', 'here', 'though']</td>\n",
       "                        <td id=\"T_9649f_row4_col4\" class=\"data row4 col4\" >['nah', 'dont', 'think', 'goes', 'usf', 'lives', 'around', 'though']</td>\n",
       "                        <td id=\"T_9649f_row4_col5\" class=\"data row4 col5\" >['nah', 'dont', 'think', 'go', 'usf', 'life', 'around', 'though']</td>\n",
       "            </tr>\n",
       "    </tbody></table>"
      ],
      "text/plain": [
       "<pandas.io.formats.style.Styler at 0x275a2054ac0>"
      ]
     },
     "execution_count": 28,
     "metadata": {},
     "output_type": "execute_result"
    }
   ],
   "source": [
    "apply_styling(spam.head(),'spam-sms')"
   ]
  },
  {
   "cell_type": "markdown",
   "id": "60b1496c",
   "metadata": {},
   "source": [
    "##### Considering Body Length as a feature"
   ]
  },
  {
   "cell_type": "code",
   "execution_count": 29,
   "id": "f9e7b045",
   "metadata": {},
   "outputs": [
    {
     "data": {
      "text/html": [
       "<style  type=\"text/css\" >\n",
       "    #T_1b365_ th {\n",
       "          color: darkblue;\n",
       "          vertical-align: top;\n",
       "    }    #T_1b365_ th:first-child {\n",
       "          max-width: 70px;\n",
       "          text-align: left;\n",
       "    }    #T_1b365_ th:last-child {\n",
       "          max-width: 50px;\n",
       "    }    #T_1b365_ td:first-child {\n",
       "          text-align: left;\n",
       "    }</style><table id=\"T_1b365_\" ><caption>Feature-Enginering</caption><thead>    <tr>        <th class=\"col_heading level0 col0\" >v1</th>        <th class=\"col_heading level0 col1\" >v2</th>        <th class=\"col_heading level0 col2\" >Body_punct_clean</th>        <th class=\"col_heading level0 col3\" >v1_Tokenized</th>        <th class=\"col_heading level0 col4\" >removed_stopword</th>        <th class=\"col_heading level0 col5\" >lemitized_sms</th>        <th class=\"col_heading level0 col6\" >Body_len</th>    </tr></thead><tbody>\n",
       "                <tr>\n",
       "                                <td id=\"T_1b365_row0_col0\" class=\"data row0 col0\" >ham</td>\n",
       "                        <td id=\"T_1b365_row0_col1\" class=\"data row0 col1\" >go until jurong point, crazy.. available only in bugis n great world la e buffet... cine there got amore wat...</td>\n",
       "                        <td id=\"T_1b365_row0_col2\" class=\"data row0 col2\" >go until jurong point crazy available only in bugis n great world la e buffet cine there got amore wat</td>\n",
       "                        <td id=\"T_1b365_row0_col3\" class=\"data row0 col3\" >['go', 'until', 'jurong', 'point', 'crazy', 'available', 'only', 'in', 'bugis', 'n', 'great', 'world', 'la', 'e', 'buffet', 'cine', 'there', 'got', 'amore', 'wat']</td>\n",
       "                        <td id=\"T_1b365_row0_col4\" class=\"data row0 col4\" >['go', 'jurong', 'point', 'crazy', 'available', 'bugis', 'n', 'great', 'world', 'la', 'e', 'buffet', 'cine', 'got', 'amore', 'wat']</td>\n",
       "                        <td id=\"T_1b365_row0_col5\" class=\"data row0 col5\" >['go', 'jurong', 'point', 'crazy', 'available', 'bugis', 'n', 'great', 'world', 'la', 'e', 'buffet', 'cine', 'got', 'amore', 'wat']</td>\n",
       "                        <td id=\"T_1b365_row0_col6\" class=\"data row0 col6\" >92</td>\n",
       "            </tr>\n",
       "            <tr>\n",
       "                                <td id=\"T_1b365_row1_col0\" class=\"data row1 col0\" >ham</td>\n",
       "                        <td id=\"T_1b365_row1_col1\" class=\"data row1 col1\" >ok lar... joking wif u oni...</td>\n",
       "                        <td id=\"T_1b365_row1_col2\" class=\"data row1 col2\" >ok lar joking wif u oni</td>\n",
       "                        <td id=\"T_1b365_row1_col3\" class=\"data row1 col3\" >['ok', 'lar', 'joking', 'wif', 'u', 'oni']</td>\n",
       "                        <td id=\"T_1b365_row1_col4\" class=\"data row1 col4\" >['ok', 'lar', 'joking', 'wif', 'u', 'oni']</td>\n",
       "                        <td id=\"T_1b365_row1_col5\" class=\"data row1 col5\" >['ok', 'lar', 'joking', 'wif', 'u', 'oni']</td>\n",
       "                        <td id=\"T_1b365_row1_col6\" class=\"data row1 col6\" >24</td>\n",
       "            </tr>\n",
       "            <tr>\n",
       "                                <td id=\"T_1b365_row2_col0\" class=\"data row2 col0\" >spam</td>\n",
       "                        <td id=\"T_1b365_row2_col1\" class=\"data row2 col1\" >free entry in 2 a wkly comp to win fa cup final tkts 21st may 2005. text fa to 87121 to receive entry question(std txt rate)t&c's apply 08452810075over18's</td>\n",
       "                        <td id=\"T_1b365_row2_col2\" class=\"data row2 col2\" >free entry in 2 a wkly comp to win fa cup final tkts 21st may 2005 text fa to 87121 to receive entry questionstd txt ratetcs apply 08452810075over18s</td>\n",
       "                        <td id=\"T_1b365_row2_col3\" class=\"data row2 col3\" >['free', 'entry', 'in', '2', 'a', 'wkly', 'comp', 'to', 'win', 'fa', 'cup', 'final', 'tkts', '21st', 'may', '2005', 'text', 'fa', 'to', '87121', 'to', 'receive', 'entry', 'questionstd', 'txt', 'ratetcs', 'apply', '08452810075over18s']</td>\n",
       "                        <td id=\"T_1b365_row2_col4\" class=\"data row2 col4\" >['free', 'entry', '2', 'wkly', 'comp', 'win', 'fa', 'cup', 'final', 'tkts', '21st', 'may', '2005', 'text', 'fa', '87121', 'receive', 'entry', 'questionstd', 'txt', 'ratetcs', 'apply', '08452810075over18s']</td>\n",
       "                        <td id=\"T_1b365_row2_col5\" class=\"data row2 col5\" >['free', 'entry', '2', 'wkly', 'comp', 'win', 'fa', 'cup', 'final', 'tkts', '21st', 'may', '2005', 'text', 'fa', '87121', 'receive', 'entry', 'questionstd', 'txt', 'ratetcs', 'apply', '08452810075over18s']</td>\n",
       "                        <td id=\"T_1b365_row2_col6\" class=\"data row2 col6\" >128</td>\n",
       "            </tr>\n",
       "            <tr>\n",
       "                                <td id=\"T_1b365_row3_col0\" class=\"data row3 col0\" >ham</td>\n",
       "                        <td id=\"T_1b365_row3_col1\" class=\"data row3 col1\" >u dun say so early hor... u c already then say...</td>\n",
       "                        <td id=\"T_1b365_row3_col2\" class=\"data row3 col2\" >u dun say so early hor u c already then say</td>\n",
       "                        <td id=\"T_1b365_row3_col3\" class=\"data row3 col3\" >['u', 'dun', 'say', 'so', 'early', 'hor', 'u', 'c', 'already', 'then', 'say']</td>\n",
       "                        <td id=\"T_1b365_row3_col4\" class=\"data row3 col4\" >['u', 'dun', 'say', 'early', 'hor', 'u', 'c', 'already', 'say']</td>\n",
       "                        <td id=\"T_1b365_row3_col5\" class=\"data row3 col5\" >['u', 'dun', 'say', 'early', 'hor', 'u', 'c', 'already', 'say']</td>\n",
       "                        <td id=\"T_1b365_row3_col6\" class=\"data row3 col6\" >39</td>\n",
       "            </tr>\n",
       "            <tr>\n",
       "                                <td id=\"T_1b365_row4_col0\" class=\"data row4 col0\" >ham</td>\n",
       "                        <td id=\"T_1b365_row4_col1\" class=\"data row4 col1\" >nah i don't think he goes to usf, he lives around here though</td>\n",
       "                        <td id=\"T_1b365_row4_col2\" class=\"data row4 col2\" >nah i dont think he goes to usf he lives around here though</td>\n",
       "                        <td id=\"T_1b365_row4_col3\" class=\"data row4 col3\" >['nah', 'i', 'dont', 'think', 'he', 'goes', 'to', 'usf', 'he', 'lives', 'around', 'here', 'though']</td>\n",
       "                        <td id=\"T_1b365_row4_col4\" class=\"data row4 col4\" >['nah', 'dont', 'think', 'goes', 'usf', 'lives', 'around', 'though']</td>\n",
       "                        <td id=\"T_1b365_row4_col5\" class=\"data row4 col5\" >['nah', 'dont', 'think', 'go', 'usf', 'life', 'around', 'though']</td>\n",
       "                        <td id=\"T_1b365_row4_col6\" class=\"data row4 col6\" >49</td>\n",
       "            </tr>\n",
       "    </tbody></table>"
      ],
      "text/plain": [
       "<pandas.io.formats.style.Styler at 0x275a77cb430>"
      ]
     },
     "execution_count": 29,
     "metadata": {},
     "output_type": "execute_result"
    }
   ],
   "source": [
    "spam['Body_len'] = spam['v2'].apply(lambda x: len(x) - x.count(\" \"))\n",
    "\n",
    "apply_styling(spam.head(), 'Feature-Enginering')\n"
   ]
  },
  {
   "cell_type": "markdown",
   "id": "45ccbd34",
   "metadata": {},
   "source": [
    "## Visualize the spam and ham length"
   ]
  },
  {
   "cell_type": "code",
   "execution_count": 33,
   "id": "3be304df",
   "metadata": {},
   "outputs": [
    {
     "data": {
      "image/png": "[encoded data removed]",
      "text/plain": [
       "<Figure size 432x288 with 1 Axes>"
      ]
     },
     "metadata": {
      "needs_background": "light"
     },
     "output_type": "display_data"
    }
   ],
   "source": [
    "bins = np.linspace(0, 200, 40)\n",
    "plt.hist(spam[spam['v1'] == \"spam\"]['Body_len'], bins, alpha= 0.5,density=True, label=\"spam\")\n",
    "plt.hist(spam[spam['v1'] == \"ham\"]['Body_len'], bins, alpha= 0.5,density=True, label=\"ham\")\n",
    "plt.legend(loc=\"upper left\")\n",
    "plt.show()"
   ]
  },
  {
   "cell_type": "markdown",
   "id": "a47dec8f",
   "metadata": {},
   "source": [
    "##### Observation: Spam msg have higher text length"
   ]
  },
  {
   "cell_type": "code",
   "execution_count": 39,
   "id": "d407f049",
   "metadata": {},
   "outputs": [],
   "source": [
    "def count_punct(text):\n",
    "    count = sum([1 for char in text if char in string.punctuation])\n",
    "    return round(count/(len(text) - text.count(\" \")), 3)*100\n",
    "\n",
    "spam['punct%'] = spam['v2'].apply(lambda x: count_punct(x))"
   ]
  },
  {
   "cell_type": "markdown",
   "id": "75c3783d",
   "metadata": {},
   "source": [
    "## Now do vectorization and convert text to numbers"
   ]
  },
  {
   "cell_type": "code",
   "execution_count": 41,
   "id": "fda553fc",
   "metadata": {},
   "outputs": [],
   "source": [
    "from sklearn.model_selection import train_test_split"
   ]
  },
  {
   "cell_type": "code",
   "execution_count": 42,
   "id": "288a9d33",
   "metadata": {},
   "outputs": [],
   "source": [
    "X_train, X_test, y_train, y_test = train_test_split(spam['lemitized_sms'], spam['v1'], test_size=0.2)"
   ]
  },
  {
   "cell_type": "code",
   "execution_count": 43,
   "id": "e31493ae",
   "metadata": {},
   "outputs": [
    {
     "data": {
      "text/plain": [
       "3291     ham\n",
       "3439     ham\n",
       "849     spam\n",
       "794      ham\n",
       "762     spam\n",
       "        ... \n",
       "429      ham\n",
       "2393     ham\n",
       "4914     ham\n",
       "4010    spam\n",
       "1458     ham\n",
       "Name: v1, Length: 4457, dtype: object"
      ]
     },
     "execution_count": 43,
     "metadata": {},
     "output_type": "execute_result"
    }
   ],
   "source": [
    "y_train"
   ]
  },
  {
   "cell_type": "code",
   "execution_count": 45,
   "id": "7c5689b2",
   "metadata": {},
   "outputs": [],
   "source": [
    "from sklearn.feature_extraction.text import TfidfVectorizer"
   ]
  },
  {
   "cell_type": "code",
   "execution_count": 46,
   "id": "23fc71ef",
   "metadata": {},
   "outputs": [],
   "source": [
    "vectorizer = TfidfVectorizer()"
   ]
  },
  {
   "cell_type": "code",
   "execution_count": 47,
   "id": "205144ba",
   "metadata": {},
   "outputs": [],
   "source": [
    "vectors = vectorizer.fit(X_train.apply(lambda x: ' '.join(x)))\n",
    "train_tf_idf = vectors.transform(X_train.apply(lambda x: ' '.join(x)))\n",
    "test_tf_idf = vectors.transform(X_test.apply(lambda x: ' '.join(x)))"
   ]
  },
  {
   "cell_type": "code",
   "execution_count": 48,
   "id": "b10e42fb",
   "metadata": {},
   "outputs": [
    {
     "data": {
      "text/plain": [
       "<4457x7725 sparse matrix of type '<class 'numpy.float64'>'\n",
       "\twith 37455 stored elements in Compressed Sparse Row format>"
      ]
     },
     "execution_count": 48,
     "metadata": {},
     "output_type": "execute_result"
    }
   ],
   "source": [
    "train_tf_idf"
   ]
  },
  {
   "cell_type": "code",
   "execution_count": 49,
   "id": "7c5eb738",
   "metadata": {},
   "outputs": [
    {
     "data": {
      "text/plain": [
       "<1115x7725 sparse matrix of type '<class 'numpy.float64'>'\n",
       "\twith 8306 stored elements in Compressed Sparse Row format>"
      ]
     },
     "execution_count": 49,
     "metadata": {},
     "output_type": "execute_result"
    }
   ],
   "source": [
    "test_tf_idf"
   ]
  },
  {
   "cell_type": "markdown",
   "id": "c97906fd",
   "metadata": {},
   "source": [
    "## Random firest Model"
   ]
  },
  {
   "cell_type": "code",
   "execution_count": 51,
   "id": "0abb3250",
   "metadata": {},
   "outputs": [],
   "source": [
    "from sklearn.ensemble import RandomForestClassifier\n",
    "from sklearn.metrics import confusion_matrix, classification_report"
   ]
  },
  {
   "cell_type": "code",
   "execution_count": 52,
   "id": "ab1849fa",
   "metadata": {},
   "outputs": [],
   "source": [
    "rf= RandomForestClassifier()\n",
    "rf.fit(train_tf_idf,y_train)\n",
    "train_pred= rf.predict(train_tf_idf)\n",
    "test_pred= rf.predict(test_tf_idf)"
   ]
  },
  {
   "cell_type": "code",
   "execution_count": 53,
   "id": "de86f605",
   "metadata": {},
   "outputs": [],
   "source": [
    "def evaluation_report(gt,pred):\n",
    "    print(confusion_matrix(gt,pred))\n",
    "    print(classification_report(gt,pred))"
   ]
  },
  {
   "cell_type": "code",
   "execution_count": 54,
   "id": "73262539",
   "metadata": {},
   "outputs": [
    {
     "name": "stdout",
     "output_type": "stream",
     "text": [
      "TRAINING\n",
      "[[3837    0]\n",
      " [   0  620]]\n",
      "              precision    recall  f1-score   support\n",
      "\n",
      "         ham       1.00      1.00      1.00      3837\n",
      "        spam       1.00      1.00      1.00       620\n",
      "\n",
      "    accuracy                           1.00      4457\n",
      "   macro avg       1.00      1.00      1.00      4457\n",
      "weighted avg       1.00      1.00      1.00      4457\n",
      "\n",
      "\n",
      "\n",
      "------------------------\n",
      "TESTING\n",
      "[[988   0]\n",
      " [ 22 105]]\n",
      "              precision    recall  f1-score   support\n",
      "\n",
      "         ham       0.98      1.00      0.99       988\n",
      "        spam       1.00      0.83      0.91       127\n",
      "\n",
      "    accuracy                           0.98      1115\n",
      "   macro avg       0.99      0.91      0.95      1115\n",
      "weighted avg       0.98      0.98      0.98      1115\n",
      "\n"
     ]
    }
   ],
   "source": [
    "print(\"TRAINING\")\n",
    "evaluation_report(y_train,train_pred)\n",
    "print(\"\\n\\n------------------------\\nTESTING\")\n",
    "evaluation_report(y_test,test_pred)"
   ]
  },
  {
   "cell_type": "code",
   "execution_count": 55,
   "id": "ac54847b",
   "metadata": {},
   "outputs": [
    {
     "name": "stdout",
     "output_type": "stream",
     "text": [
      "Accuracy: 98.02690582959642\n"
     ]
    }
   ],
   "source": [
    "from sklearn import metrics\n",
    "\n",
    "print ('Accuracy:',metrics.accuracy_score(y_test,test_pred)*100)"
   ]
  },
  {
   "cell_type": "code",
   "execution_count": null,
   "id": "513a95b4",
   "metadata": {},
   "outputs": [],
   "source": []
  }
 ],
 "metadata": {
  "kernelspec": {
   "display_name": "Python 3",
   "language": "python",
   "name": "python3"
  },
  "language_info": {
   "codemirror_mode": {
    "name": "ipython",
    "version": 3
   },
   "file_extension": ".py",
   "mimetype": "text/x-python",
   "name": "python",
   "nbconvert_exporter": "python",
   "pygments_lexer": "ipython3",
   "version": "3.8.8"
  }
 },
 "nbformat": 4,
 "nbformat_minor": 5
}
